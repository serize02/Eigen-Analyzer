{
 "cells": [
  {
   "cell_type": "code",
   "id": "initial_id",
   "metadata": {
    "collapsed": true,
    "ExecuteTime": {
     "end_time": "2024-12-05T05:02:54.153226Z",
     "start_time": "2024-12-05T05:02:54.143605Z"
    }
   },
   "source": [
    "import matplotlib.pyplot as plt\n",
    "import seaborn as sns\n",
    "import numpy as np\n",
    "import pandas as pd"
   ],
   "outputs": [],
   "execution_count": 2
  },
  {
   "metadata": {
    "ExecuteTime": {
     "end_time": "2024-12-05T05:02:55.849718Z",
     "start_time": "2024-12-05T05:02:55.833295Z"
    }
   },
   "cell_type": "code",
   "source": "df = pd.read_csv('computed_results.csv')",
   "id": "c89d971932df73ca",
   "outputs": [],
   "execution_count": 3
  },
  {
   "metadata": {
    "ExecuteTime": {
     "end_time": "2024-12-05T05:02:57.545674Z",
     "start_time": "2024-12-05T05:02:57.533509Z"
    }
   },
   "cell_type": "code",
   "source": "df.head()",
   "id": "62017abd2aee1a41",
   "outputs": [
    {
     "data": {
      "text/plain": [
       "   dominant-eigenvalue                               computed-eigenvalues  \\\n",
       "0           136.076873  [135.5, 135.9294117647059, 136.07888702033327,...   \n",
       "1           148.233412               [149.0, 148.225, 148.23342519046847]   \n",
       "2           110.846584  [107.0, 110.17391304347827, 110.87417218543047...   \n",
       "3            46.505434  [41.5, 45.35353535353536, 46.683478486936174, ...   \n",
       "4           119.037370  [110.5, 117.35021097046413, 119.20524728721414...   \n",
       "\n",
       "   iterations  \n",
       "0           4  \n",
       "1           3  \n",
       "2           5  \n",
       "3           8  \n",
       "4           7  "
      ],
      "text/html": [
       "<div>\n",
       "<style scoped>\n",
       "    .dataframe tbody tr th:only-of-type {\n",
       "        vertical-align: middle;\n",
       "    }\n",
       "\n",
       "    .dataframe tbody tr th {\n",
       "        vertical-align: top;\n",
       "    }\n",
       "\n",
       "    .dataframe thead th {\n",
       "        text-align: right;\n",
       "    }\n",
       "</style>\n",
       "<table border=\"1\" class=\"dataframe\">\n",
       "  <thead>\n",
       "    <tr style=\"text-align: right;\">\n",
       "      <th></th>\n",
       "      <th>dominant-eigenvalue</th>\n",
       "      <th>computed-eigenvalues</th>\n",
       "      <th>iterations</th>\n",
       "    </tr>\n",
       "  </thead>\n",
       "  <tbody>\n",
       "    <tr>\n",
       "      <th>0</th>\n",
       "      <td>136.076873</td>\n",
       "      <td>[135.5, 135.9294117647059, 136.07888702033327,...</td>\n",
       "      <td>4</td>\n",
       "    </tr>\n",
       "    <tr>\n",
       "      <th>1</th>\n",
       "      <td>148.233412</td>\n",
       "      <td>[149.0, 148.225, 148.23342519046847]</td>\n",
       "      <td>3</td>\n",
       "    </tr>\n",
       "    <tr>\n",
       "      <th>2</th>\n",
       "      <td>110.846584</td>\n",
       "      <td>[107.0, 110.17391304347827, 110.87417218543047...</td>\n",
       "      <td>5</td>\n",
       "    </tr>\n",
       "    <tr>\n",
       "      <th>3</th>\n",
       "      <td>46.505434</td>\n",
       "      <td>[41.5, 45.35353535353536, 46.683478486936174, ...</td>\n",
       "      <td>8</td>\n",
       "    </tr>\n",
       "    <tr>\n",
       "      <th>4</th>\n",
       "      <td>119.037370</td>\n",
       "      <td>[110.5, 117.35021097046413, 119.20524728721414...</td>\n",
       "      <td>7</td>\n",
       "    </tr>\n",
       "  </tbody>\n",
       "</table>\n",
       "</div>"
      ]
     },
     "execution_count": 4,
     "metadata": {},
     "output_type": "execute_result"
    }
   ],
   "execution_count": 4
  },
  {
   "metadata": {
    "ExecuteTime": {
     "end_time": "2024-12-05T05:08:11.712265Z",
     "start_time": "2024-12-05T05:08:11.698564Z"
    }
   },
   "cell_type": "code",
   "source": [
    "row = df[df['iterations'] == 6].iloc[0]\n",
    "row"
   ],
   "id": "a869730051925c27",
   "outputs": [
    {
     "data": {
      "text/plain": [
       "dominant-eigenvalue                                            110.927028\n",
       "computed-eigenvalues    [108.0, 110.37383177570094, 110.95080290477651...\n",
       "iterations                                                              6\n",
       "Name: 15, dtype: object"
      ]
     },
     "execution_count": 7,
     "metadata": {},
     "output_type": "execute_result"
    }
   ],
   "execution_count": 7
  },
  {
   "metadata": {
    "ExecuteTime": {
     "end_time": "2024-12-05T05:18:11.854415Z",
     "start_time": "2024-12-05T05:18:11.849407Z"
    }
   },
   "cell_type": "code",
   "source": [
    "values = eval(row['computed-eigenvalues'])\n",
    "iter = [_ for _ in range(int(row['iterations']))]\n",
    "errors = [abs(row['dominant-eigenvalue'] - v) for v in values]"
   ],
   "id": "2c7b1c2deb072fc8",
   "outputs": [],
   "execution_count": 26
  },
  {
   "metadata": {
    "ExecuteTime": {
     "end_time": "2024-12-05T05:19:56.754967Z",
     "start_time": "2024-12-05T05:19:56.625620Z"
    }
   },
   "cell_type": "code",
   "source": [
    "sns.set_theme(style='darkgrid')\n",
    "plt.figure(figsize=(7, 4))\n",
    "plt.errorbar(iter, values, errors, fmt='o', color='black', ecolor='lightgray', elinewidth=4, capsize=0)\n",
    "plt.plot(iter, values, linestyle='-', color='black', linewidth=0.5)\n",
    "plt.title('Convergence of the Inverse Power Method')\n",
    "plt.xlabel('Iteration')\n",
    "plt.ylabel('Eigenvalue')"
   ],
   "id": "43a6e2c907c8b476",
   "outputs": [
    {
     "data": {
      "text/plain": [
       "Text(0, 0.5, 'Eigenvalue')"
      ]
     },
     "execution_count": 30,
     "metadata": {},
     "output_type": "execute_result"
    },
    {
     "data": {
      "text/plain": [
       "<Figure size 700x400 with 1 Axes>"
      ],
      "image/png": "[encoded data removed]"
     },
     "metadata": {},
     "output_type": "display_data"
    }
   ],
   "execution_count": 30
  }
 ],
 "metadata": {
  "kernelspec": {
   "display_name": "Python 3",
   "language": "python",
   "name": "python3"
  },
  "language_info": {
   "codemirror_mode": {
    "name": "ipython",
    "version": 2
   },
   "file_extension": ".py",
   "mimetype": "text/x-python",
   "name": "python",
   "nbconvert_exporter": "python",
   "pygments_lexer": "ipython2",
   "version": "2.7.6"
  }
 },
 "nbformat": 4,
 "nbformat_minor": 5
}
